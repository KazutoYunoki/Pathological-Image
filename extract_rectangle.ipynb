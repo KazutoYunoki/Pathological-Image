{
 "cells": [
  {
   "cell_type": "code",
   "execution_count": 1,
   "metadata": {},
   "outputs": [
    {
     "data": {
      "image/png": "[encoded data removed]",
      "text/plain": [
       "<Figure size 432x288 with 1 Axes>"
      ]
     },
     "metadata": {
      "needs_background": "light"
     },
     "output_type": "display_data"
    },
    {
     "name": "stdout",
     "output_type": "stream",
     "text": [
      "[((888.729248046875, 968.6893310546875), (22.149795532226562, 1031.72314453125), -44.44833755493164)]\n"
     ]
    },
    {
     "data": {
      "image/png": "[encoded data removed]",
      "text/plain": [
       "<Figure size 432x288 with 1 Axes>"
      ]
     },
     "metadata": {
      "needs_background": "light"
     },
     "output_type": "display_data"
    }
   ],
   "source": [
    "import cv2\n",
    "import numpy as np\n",
    "import matplotlib.pyplot as plt\n",
    "from pathlib import Path\n",
    "#画像の読み込み\n",
    "img = cv2.imread('./data/9712/test.png')\n",
    "\n",
    "#画像をグレースケール化して表示\n",
    "gray = cv2.cvtColor(img, cv2.COLOR_BGR2GRAY)\n",
    "plt.imshow(gray)\n",
    "plt.gray()\n",
    "plt.show()\n",
    "\n",
    "# 2値化する。\n",
    "ret, binary = cv2.threshold(gray, 127, 255, cv2.THRESH_BINARY)\n",
    "plt.imshow(binary)\n",
    "# 膨張処理\n",
    "kernel = cv2.getStructuringElement(cv2.MORPH_ELLIPSE, (5, 5))\n",
    "binary = cv2.dilate(binary, kernel)\n",
    "\n",
    "# 輪郭抽出する。\n",
    "contours, hierarchy = cv2.findContours(\n",
    "    binary, cv2.RETR_EXTERNAL, cv2.CHAIN_APPROX_SIMPLE\n",
    ")\n",
    "\n",
    "rects = []\n",
    "for cnt in contours:\n",
    "    if cv2.contourArea(cnt) < 100:\n",
    "        continue  # 小さい輪郭は無視する。\n",
    "\n",
    "    # 回転した外接矩形をとる。\n",
    "    rect = cv2.minAreaRect(cnt)\n",
    "    rects.append(rect)\n",
    "\n",
    "print(rects)\n",
    "def crop_rect(img, rect):\n",
    "    center, size, angle = rect\n",
    "    center = tuple(map(int, center))  # float -> int\n",
    "    size = tuple(map(int, size))  # float -> int\n",
    "    height, width = img.shape[:2]  # 画像の高さ、幅\n",
    "\n",
    "    # 画像を回転する。\n",
    "    M = cv2.getRotationMatrix2D(center, -angle, 1)\n",
    "    rotated = cv2.warpAffine(img, M, (width, height))\n",
    "\n",
    "    # 切り抜く。\n",
    "    # cropped = cv2.getRectSubPix(rotated, size, center)\n",
    "\n",
    "    return rotated\n",
    "\n",
    "\n",
    "# 保存するディレクトリを作成する。\n",
    "output_dir = Path(\"output\")\n",
    "output_dir.mkdir(exist_ok=True)\n",
    "\n",
    "\n",
    "for i, rect in enumerate(rects):\n",
    "    # 切り抜く。\n",
    "    cropped = crop_rect(img, rect)\n",
    "    # 保存する。\n",
    "    save_path = output_dir / f\"contour{i}.png\"\n",
    "    cv2.imwrite(str(save_path), cropped)"
   ]
  },
  {
   "cell_type": "code",
   "execution_count": null,
   "metadata": {},
   "outputs": [],
   "source": []
  },
  {
   "cell_type": "code",
   "execution_count": null,
   "metadata": {},
   "outputs": [],
   "source": []
  }
 ],
 "metadata": {
  "kernelspec": {
   "display_name": "Environment (conda_dls)",
   "language": "python",
   "name": "conda_dls"
  },
  "language_info": {
   "codemirror_mode": {
    "name": "ipython",
    "version": 3
   },
   "file_extension": ".py",
   "mimetype": "text/x-python",
   "name": "python",
   "nbconvert_exporter": "python",
   "pygments_lexer": "ipython3",
   "version": "3.7.1"
  }
 },
 "nbformat": 4,
 "nbformat_minor": 4
}
